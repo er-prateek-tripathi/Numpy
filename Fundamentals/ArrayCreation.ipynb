{
  "nbformat": 4,
  "nbformat_minor": 0,
  "metadata": {
    "colab": {
      "provenance": [],
      "authorship_tag": "ABX9TyPscXA24sSyC3W+7dvgJz7G",
      "include_colab_link": true
    },
    "kernelspec": {
      "name": "python3",
      "display_name": "Python 3"
    },
    "language_info": {
      "name": "python"
    }
  },
  "cells": [
    {
      "cell_type": "markdown",
      "metadata": {
        "id": "view-in-github",
        "colab_type": "text"
      },
      "source": [
        "<a href=\"https://colab.research.google.com/github/er-prateek-tripathi/Numpy/blob/main/Fundamentals/ArrayCreation.ipynb\" target=\"_parent\"><img src=\"https://colab.research.google.com/assets/colab-badge.svg\" alt=\"Open In Colab\"/></a>"
      ]
    },
    {
      "cell_type": "code",
      "execution_count": 1,
      "metadata": {
        "id": "yT_IbR1WgNxK"
      },
      "outputs": [],
      "source": [
        "import numpy as np"
      ]
    },
    {
      "cell_type": "code",
      "source": [
        "# Empty Array\n",
        "var1 = np.empty([2,4], dtype = int)"
      ],
      "metadata": {
        "id": "LoUrYdYUhY4B"
      },
      "execution_count": 5,
      "outputs": []
    },
    {
      "cell_type": "code",
      "source": [
        "print(\"Type: \", type(var1))\n",
        "print(\"Shape: \", var1.shape)"
      ],
      "metadata": {
        "colab": {
          "base_uri": "https://localhost:8080/"
        },
        "id": "s2TpoQsdhns4",
        "outputId": "c28f8bf1-1213-4bef-fd89-cdd4fcd1aef8"
      },
      "execution_count": 7,
      "outputs": [
        {
          "output_type": "stream",
          "name": "stdout",
          "text": [
            "Type:  <class 'numpy.ndarray'>\n",
            "Shape:  (2, 4)\n"
          ]
        }
      ]
    },
    {
      "cell_type": "code",
      "source": [
        "# Empty Like\n",
        "\n",
        "var2 = np.empty_like(var1, dtype = float)\n",
        "print('Type: ', type(var2))\n",
        "print('Shape: ', var2.shape)"
      ],
      "metadata": {
        "colab": {
          "base_uri": "https://localhost:8080/"
        },
        "id": "ktKgNSg5hpny",
        "outputId": "898dff22-bb9f-4238-c100-af95c460fef7"
      },
      "execution_count": 8,
      "outputs": [
        {
          "output_type": "stream",
          "name": "stdout",
          "text": [
            "Type:  <class 'numpy.ndarray'>\n",
            "Shape:  (2, 4)\n"
          ]
        }
      ]
    },
    {
      "cell_type": "code",
      "source": [
        "# 2D array with ones\n",
        "# k = +ve, kth index in row\n",
        "# k = -ve, kth index in col\n",
        "\n",
        "var3 = np.eye(4, 5, k = -2, dtype=int)\n",
        "print(var3)\n",
        "print('Type: ', type(var3))\n",
        "print('Shape: ', var3.shape)"
      ],
      "metadata": {
        "colab": {
          "base_uri": "https://localhost:8080/"
        },
        "id": "xfwlj7Afk10f",
        "outputId": "f87be130-6051-4d0f-a5b2-172146cf5e08"
      },
      "execution_count": 12,
      "outputs": [
        {
          "output_type": "stream",
          "name": "stdout",
          "text": [
            "[[0 0 0 0 0]\n",
            " [0 0 0 0 0]\n",
            " [1 0 0 0 0]\n",
            " [0 1 0 0 0]]\n",
            "Type:  <class 'numpy.ndarray'>\n",
            "Shape:  (4, 5)\n"
          ]
        }
      ]
    },
    {
      "cell_type": "code",
      "source": [
        "# Identity Array\n",
        "\n",
        "var4 = np.identity(3, dtype = int)\n",
        "print(var4)\n",
        "print('Type: ', type(var4))\n",
        "print('Shape: ', var4.shape)"
      ],
      "metadata": {
        "colab": {
          "base_uri": "https://localhost:8080/"
        },
        "id": "5Tvmtmoul8Ex",
        "outputId": "3fc6f272-a467-4375-88c8-0715bf2aa9cc"
      },
      "execution_count": 13,
      "outputs": [
        {
          "output_type": "stream",
          "name": "stdout",
          "text": [
            "[[1 0 0]\n",
            " [0 1 0]\n",
            " [0 0 1]]\n",
            "Type:  <class 'numpy.ndarray'>\n",
            "Shape:  (3, 3)\n"
          ]
        }
      ]
    },
    {
      "cell_type": "code",
      "source": [
        "# Ones Array\n",
        "\n",
        "var5 = np.ones((5, 4), dtype = int)\n",
        "\n",
        "print(var5)\n",
        "print('Type: ', type(var5))\n",
        "print('Shape: ', var5.shape)"
      ],
      "metadata": {
        "colab": {
          "base_uri": "https://localhost:8080/"
        },
        "id": "wOvlRToBm-mc",
        "outputId": "8662e859-2eb2-4955-ce8c-8556aa5e9d02"
      },
      "execution_count": 16,
      "outputs": [
        {
          "output_type": "stream",
          "name": "stdout",
          "text": [
            "[[1 1 1 1]\n",
            " [1 1 1 1]\n",
            " [1 1 1 1]\n",
            " [1 1 1 1]\n",
            " [1 1 1 1]]\n",
            "Type:  <class 'numpy.ndarray'>\n",
            "Shape:  (5, 4)\n"
          ]
        }
      ]
    },
    {
      "cell_type": "code",
      "source": [
        "a = np.arange(8)\n",
        "a = a.reshape((2, 4))\n",
        "\n",
        "var6 = np.ones_like(a, dtype = int)\n",
        "\n",
        "print(var6)\n",
        "print('Type: ', type(var6))\n",
        "print('Shape: ', var6.shape)"
      ],
      "metadata": {
        "colab": {
          "base_uri": "https://localhost:8080/"
        },
        "id": "_AA5r6_wnufy",
        "outputId": "72957b13-2eb4-4778-a7cd-6ae48224b1b9"
      },
      "execution_count": 18,
      "outputs": [
        {
          "output_type": "stream",
          "name": "stdout",
          "text": [
            "[[1 1 1 1]\n",
            " [1 1 1 1]]\n",
            "Type:  <class 'numpy.ndarray'>\n",
            "Shape:  (2, 4)\n"
          ]
        }
      ]
    },
    {
      "cell_type": "code",
      "source": [
        "# Zeros Array\n",
        "\n",
        "var7 = np.zeros((3, 3), dtype=int)\n",
        "\n",
        "print(var7)\n",
        "print('Type: ', type(var7))\n",
        "print('Shape: ', var7.shape)"
      ],
      "metadata": {
        "colab": {
          "base_uri": "https://localhost:8080/"
        },
        "id": "yvZwfHgxoKT8",
        "outputId": "62095355-ecdd-49ea-b68e-2bf6b97c2edf"
      },
      "execution_count": 19,
      "outputs": [
        {
          "output_type": "stream",
          "name": "stdout",
          "text": [
            "[[0 0 0]\n",
            " [0 0 0]\n",
            " [0 0 0]]\n",
            "Type:  <class 'numpy.ndarray'>\n",
            "Shape:  (3, 3)\n"
          ]
        }
      ]
    },
    {
      "cell_type": "code",
      "source": [
        "b = np.arange(6)\n",
        "b = b.reshape((2, 3))\n",
        "\n",
        "var8 = np.zeros_like(b, dtype = int)\n",
        "\n",
        "print(var8)\n",
        "print('Type: ', type(var8))\n",
        "print('Shape: ', var8.shape)"
      ],
      "metadata": {
        "colab": {
          "base_uri": "https://localhost:8080/"
        },
        "id": "1o_PIclDqZtd",
        "outputId": "8cd15705-a3fd-4dd1-842e-7b18e3d4702d"
      },
      "execution_count": 20,
      "outputs": [
        {
          "output_type": "stream",
          "name": "stdout",
          "text": [
            "[[0 0 0]\n",
            " [0 0 0]]\n",
            "Type:  <class 'numpy.ndarray'>\n",
            "Shape:  (2, 3)\n"
          ]
        }
      ]
    },
    {
      "cell_type": "code",
      "source": [
        "# array\n",
        "\n",
        "var9 = np.array([2, 3, 4])\n",
        "var9"
      ],
      "metadata": {
        "colab": {
          "base_uri": "https://localhost:8080/"
        },
        "id": "2LbOw_8RqyCk",
        "outputId": "ecf43753-3209-416a-cd87-703c321708c5"
      },
      "execution_count": 21,
      "outputs": [
        {
          "output_type": "execute_result",
          "data": {
            "text/plain": [
              "array([2, 3, 4])"
            ]
          },
          "metadata": {},
          "execution_count": 21
        }
      ]
    },
    {
      "cell_type": "code",
      "source": [
        "type(var9)"
      ],
      "metadata": {
        "colab": {
          "base_uri": "https://localhost:8080/"
        },
        "id": "0u6lwAj-rN3j",
        "outputId": "8b80b7f7-917b-4f22-c3a5-7e4171eece84"
      },
      "execution_count": 22,
      "outputs": [
        {
          "output_type": "execute_result",
          "data": {
            "text/plain": [
              "numpy.ndarray"
            ]
          },
          "metadata": {},
          "execution_count": 22
        }
      ]
    },
    {
      "cell_type": "code",
      "source": [
        "var9 = np.array([2, 3, 4.5])\n",
        "var9"
      ],
      "metadata": {
        "colab": {
          "base_uri": "https://localhost:8080/"
        },
        "id": "Bt4FNgnTrRbx",
        "outputId": "c52a8d99-760a-48c6-cc0a-07ec468bcd69"
      },
      "execution_count": 23,
      "outputs": [
        {
          "output_type": "execute_result",
          "data": {
            "text/plain": [
              "array([2. , 3. , 4.5])"
            ]
          },
          "metadata": {},
          "execution_count": 23
        }
      ]
    },
    {
      "cell_type": "code",
      "source": [
        "np.array([[1, 2], [3, 4]]) # 2 dimension Array"
      ],
      "metadata": {
        "colab": {
          "base_uri": "https://localhost:8080/"
        },
        "id": "9ofgNqmyrZNR",
        "outputId": "09dc4cc6-a66b-4b12-89e4-db7f711da91a"
      },
      "execution_count": 25,
      "outputs": [
        {
          "output_type": "execute_result",
          "data": {
            "text/plain": [
              "array([[1, 2],\n",
              "       [3, 4]])"
            ]
          },
          "metadata": {},
          "execution_count": 25
        }
      ]
    },
    {
      "cell_type": "code",
      "source": [
        "np.array([1, 2, 3], ndmin = 2) # 1D to 2D"
      ],
      "metadata": {
        "colab": {
          "base_uri": "https://localhost:8080/"
        },
        "id": "DygEQ7iorlxL",
        "outputId": "224e9432-ffc8-4a1d-93b8-386a98c3424e"
      },
      "execution_count": 27,
      "outputs": [
        {
          "output_type": "execute_result",
          "data": {
            "text/plain": [
              "array([[1, 2, 3]])"
            ]
          },
          "metadata": {},
          "execution_count": 27
        }
      ]
    },
    {
      "cell_type": "code",
      "source": [
        "np.array([4, 5, 6], dtype = complex) # array with complex numbers"
      ],
      "metadata": {
        "colab": {
          "base_uri": "https://localhost:8080/"
        },
        "id": "8JlmoP_brw8l",
        "outputId": "7e31050c-04d1-4e53-fdf4-e8483a44bdc6"
      },
      "execution_count": 28,
      "outputs": [
        {
          "output_type": "execute_result",
          "data": {
            "text/plain": [
              "array([4.+0.j, 5.+0.j, 6.+0.j])"
            ]
          },
          "metadata": {},
          "execution_count": 28
        }
      ]
    },
    {
      "cell_type": "code",
      "source": [],
      "metadata": {
        "id": "2XPb05jcsJHa"
      },
      "execution_count": null,
      "outputs": []
    }
  ]
}